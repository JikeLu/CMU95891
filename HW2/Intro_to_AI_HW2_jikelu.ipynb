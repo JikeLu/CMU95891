{
 "cells": [
  {
   "cell_type": "code",
   "execution_count": 1,
   "id": "b21e21c0",
   "metadata": {},
   "outputs": [],
   "source": [
    "import pandas as pd\n",
    "import numpy as np\n",
    "import matplotlib.pyplot as plt\n",
    "from sklearn.tree import DecisionTreeClassifier\n",
    "from sklearn.linear_model import LogisticRegression\n",
    "from sklearn.svm import SVC\n",
    "from sklearn import metrics\n",
    "import random\n",
    "\n",
    "random.seed(95891)"
   ]
  },
  {
   "cell_type": "code",
   "execution_count": 2,
   "id": "1faddc0a",
   "metadata": {},
   "outputs": [],
   "source": [
    "data = pd.read_excel(\"hw2.xlsx\")"
   ]
  },
  {
   "cell_type": "code",
   "execution_count": 3,
   "id": "ba3894cd",
   "metadata": {},
   "outputs": [],
   "source": [
    "sentimentArray = data['Sentiment'].values\n",
    "positive = []\n",
    "negative = []\n",
    "for positive_negative in sentimentArray:\n",
    "    p_n = positive_negative.split(\" \")\n",
    "    positive.append(int(p_n[0]))\n",
    "    negative.append(int(p_n[1]))"
   ]
  },
  {
   "cell_type": "code",
   "execution_count": 4,
   "id": "585b863f",
   "metadata": {},
   "outputs": [],
   "source": [
    "data[\"Positive_sentiment\"] = positive\n",
    "data[\"Negative_sentiment\"] = negative"
   ]
  },
  {
   "cell_type": "code",
   "execution_count": 5,
   "id": "a62cb9ac",
   "metadata": {},
   "outputs": [],
   "source": [
    "#Impute all missing variables by mean.\n",
    "mean_value_followers = data['#Followers'].mean() \n",
    "data['#Followers'].fillna(value=mean_value_followers, inplace=True) \n",
    "mean_value_friends = data['#Friends'].mean() \n",
    "data['#Friends'].fillna(value=mean_value_friends, inplace=True) \n",
    "mean_value_favorites = data['#Favorites'].mean() \n",
    "data['#Favorites'].fillna(value=mean_value_favorites, inplace=True) \n",
    "mean_value_retwees = data['#Retweets'].mean() \n",
    "data['#Retweets'].fillna(value=mean_value_retwees, inplace=True) "
   ]
  },
  {
   "cell_type": "code",
   "execution_count": 6,
   "id": "530652cb",
   "metadata": {},
   "outputs": [
    {
     "name": "stderr",
     "output_type": "stream",
     "text": [
      "C:\\Users\\JkL\\AppData\\Local\\Temp\\ipykernel_43284\\3714335269.py:1: RuntimeWarning: divide by zero encountered in log10\n",
      "  log_followers = np.log10(data[\"#Followers\"].values)\n",
      "C:\\Users\\JkL\\AppData\\Local\\Temp\\ipykernel_43284\\3714335269.py:3: RuntimeWarning: divide by zero encountered in log10\n",
      "  log_friends = np.log10(data[\"#Friends\"].values)\n",
      "C:\\Users\\JkL\\AppData\\Local\\Temp\\ipykernel_43284\\3714335269.py:5: RuntimeWarning: divide by zero encountered in log10\n",
      "  log_favorites = np.log10(data[\"#Favorites\"].values)\n"
     ]
    }
   ],
   "source": [
    "log_followers = np.log10(data[\"#Followers\"].values)\n",
    "log_followers[log_followers < 0] = -1\n",
    "log_friends = np.log10(data[\"#Friends\"].values)\n",
    "log_friends[log_friends < 0] = -1\n",
    "log_favorites = np.log10(data[\"#Favorites\"].values)\n",
    "log_favorites[log_favorites < 0] = -1"
   ]
  },
  {
   "cell_type": "code",
   "execution_count": 7,
   "id": "a87b6382",
   "metadata": {},
   "outputs": [
    {
     "name": "stderr",
     "output_type": "stream",
     "text": [
      "C:\\Users\\JkL\\AppData\\Local\\Temp\\ipykernel_43284\\2037707219.py:12: UserWarning: Matplotlib is currently using module://matplotlib_inline.backend_inline, which is a non-GUI backend, so cannot show the figure.\n",
      "  fig.show()\n"
     ]
    },
    {
     "data": {
      "image/png": "[encoded data removed]",
      "text/plain": [
       "<Figure size 1080x360 with 3 Axes>"
      ]
     },
     "metadata": {
      "needs_background": "light"
     },
     "output_type": "display_data"
    }
   ],
   "source": [
    "fig = plt.figure(figsize=(15,5))\n",
    "\n",
    "fig.add_subplot(1,3,1)\n",
    "plt.hist(log_followers) \n",
    "plt.title(\"followers\") \n",
    "fig.add_subplot(1,3,2)\n",
    "plt.hist(log_friends) \n",
    "plt.title(\"friends\") \n",
    "fig.add_subplot(1,3,3)\n",
    "plt.hist(log_favorites) \n",
    "plt.title(\"favorites\")\n",
    "fig.show()"
   ]
  },
  {
   "cell_type": "code",
   "execution_count": 8,
   "id": "d8b6e800",
   "metadata": {},
   "outputs": [],
   "source": [
    "my_array = np.array([4, 5, 5, 7, 8, 8, 9, 12])\n",
    "my_array[my_array == 8] = 20"
   ]
  },
  {
   "cell_type": "code",
   "execution_count": 9,
   "id": "04c2ea47",
   "metadata": {},
   "outputs": [
    {
     "name": "stderr",
     "output_type": "stream",
     "text": [
      "C:\\Users\\JkL\\AppData\\Local\\Temp\\ipykernel_43284\\3471645240.py:1: FutureWarning: The default value of numeric_only in DataFrame.corr is deprecated. In a future version, it will default to False. Select only valid columns or specify the value of numeric_only to silence this warning.\n",
      "  data.corr()[\"#Retweets\"]\n"
     ]
    },
    {
     "data": {
      "text/plain": [
       "Tweet ID              0.001213\n",
       "#Followers            0.134503\n",
       "#Friends              0.026502\n",
       "#Retweets             1.000000\n",
       "#Favorites            0.890328\n",
       "Positive_sentiment    0.000433\n",
       "Negative_sentiment   -0.010565\n",
       "Name: #Retweets, dtype: float64"
      ]
     },
     "execution_count": 9,
     "metadata": {},
     "output_type": "execute_result"
    }
   ],
   "source": [
    "data.corr()[\"#Retweets\"]"
   ]
  },
  {
   "cell_type": "markdown",
   "id": "6cfe9ab3",
   "metadata": {},
   "source": [
    "## I have imputed all 0 values to be -1 after taking the log. As shown in the histogram, all distributions seem like normal distributions. The correlation suggests that positive and negative sentiment show little linear relationship with the retweet variable, whereas favorites shows the most correlation. The plus and minus signs indicates whether the variable is positively correlated (x+, y+) or negatively correlated (x+, y-). If a feature shows correlation close to 0, it still can contribute to the prediction since some features relate to the outcome variable in a non-linear way."
   ]
  },
  {
   "cell_type": "code",
   "execution_count": 10,
   "id": "a3dae991",
   "metadata": {},
   "outputs": [],
   "source": [
    "# Count Entities, Hashtags, and Mentions\n",
    "\n",
    "def count_words_entity(x):\n",
    "    if str(x)==\"null;\":\n",
    "        return 0\n",
    "    else:\n",
    "        return len(str(x).split(\";\"))\n",
    "\n",
    "def count_words_others(x):\n",
    "    if str(x)==\"null;\":\n",
    "        return 0\n",
    "    else:\n",
    "        return len(str(x).split(\" \"))\n",
    "    \n",
    "entity = []\n",
    "hashtags = []\n",
    "mentions = []\n",
    "for e in data[\"Entities\"].values:\n",
    "    entity.append(count_words_entity(e))\n",
    "for h in data[\"Hashtags\"].values:\n",
    "    hashtags.append(count_words_others(h))\n",
    "for m in data[\"Mentions\"].values:\n",
    "    mentions.append(count_words_others(m))\n",
    "data[\"#Entity\"] = entity\n",
    "data[\"#Hashtags\"] = hashtags\n",
    "data[\"#Mentions\"] = mentions"
   ]
  },
  {
   "cell_type": "code",
   "execution_count": 11,
   "id": "6ba7d40d",
   "metadata": {},
   "outputs": [],
   "source": [
    "test = data.tail(20000)\n",
    "train = data.head(80000)\n",
    "feature_cols = ['#Followers', '#Friends', '#Favorites', '#Entity','#Mentions', '#Hashtags', \"Positive_sentiment\", \"Negative_sentiment\"]\n",
    "X_train = train[feature_cols]\n",
    "y_train = train[\"#Retweets\"]\n",
    "X_test= test[feature_cols]\n",
    "y_test = test[\"#Retweets\"]"
   ]
  },
  {
   "cell_type": "code",
   "execution_count": 12,
   "id": "46c09ccc",
   "metadata": {},
   "outputs": [],
   "source": [
    "from sklearn import tree\n",
    "\n",
    "trees = tree.DecisionTreeClassifier()\n",
    "trees.fit(X_train,y_train)\n",
    "y_pred_trees = trees.predict(X_test)"
   ]
  },
  {
   "cell_type": "code",
   "execution_count": 13,
   "id": "d8f8bd75",
   "metadata": {},
   "outputs": [
    {
     "name": "stdout",
     "output_type": "stream",
     "text": [
      "Accuracy: 0.5735\n",
      "Error:  135827.9917\n",
      "r2:  -1.3510444353587503\n"
     ]
    }
   ],
   "source": [
    "print(\"Accuracy:\",metrics.accuracy_score(y_test, y_pred_trees))\n",
    "print(\"Error: \", metrics.mean_squared_error(y_test, y_pred_trees))\n",
    "print(\"r2: \", metrics.r2_score(y_test, y_pred_trees))"
   ]
  },
  {
   "cell_type": "code",
   "execution_count": 14,
   "id": "c57c47cd",
   "metadata": {},
   "outputs": [
    {
     "name": "stderr",
     "output_type": "stream",
     "text": [
      "E:\\Anaconda\\lib\\site-packages\\sklearn\\linear_model\\_logistic.py:814: ConvergenceWarning: lbfgs failed to converge (status=1):\n",
      "STOP: TOTAL NO. of ITERATIONS REACHED LIMIT.\n",
      "\n",
      "Increase the number of iterations (max_iter) or scale the data as shown in:\n",
      "    https://scikit-learn.org/stable/modules/preprocessing.html\n",
      "Please also refer to the documentation for alternative solver options:\n",
      "    https://scikit-learn.org/stable/modules/linear_model.html#logistic-regression\n",
      "  n_iter_i = _check_optimize_result(\n"
     ]
    }
   ],
   "source": [
    "LR = LogisticRegression()\n",
    "LR.fit(X_train, y_train)\n",
    "y_pred_LR = LR.predict(X_test)"
   ]
  },
  {
   "cell_type": "code",
   "execution_count": 15,
   "id": "b23424ed",
   "metadata": {},
   "outputs": [
    {
     "name": "stdout",
     "output_type": "stream",
     "text": [
      "Accuracy: 0.5542\n",
      "Error:  554245.8877\n",
      "r2  -8.593432795322379\n"
     ]
    }
   ],
   "source": [
    "print(\"Accuracy:\",metrics.accuracy_score(y_test, y_pred_LR))\n",
    "print(\"Error: \", metrics.mean_squared_error(y_test, y_pred_LR))\n",
    "print(\"r2 \", metrics.r2_score(y_test, y_pred_LR))"
   ]
  },
  {
   "cell_type": "code",
   "execution_count": 16,
   "id": "d1967c75",
   "metadata": {},
   "outputs": [],
   "source": [
    "test = data.tail(20000)\n",
    "train = data.head(80000)\n",
    "feature_cols = ['#Followers', '#Friends', '#Favorites']\n",
    "X_train = train[feature_cols]\n",
    "y_train = train[\"#Retweets\"]\n",
    "X_test= test[feature_cols]\n",
    "y_test = test[\"#Retweets\"]"
   ]
  },
  {
   "cell_type": "code",
   "execution_count": 17,
   "id": "fc88334e",
   "metadata": {},
   "outputs": [],
   "source": [
    "from sklearn import tree\n",
    "\n",
    "trees = tree.DecisionTreeClassifier()\n",
    "trees.fit(X_train,y_train)\n",
    "y_pred_trees = trees.predict(X_test)"
   ]
  },
  {
   "cell_type": "code",
   "execution_count": 18,
   "id": "cee3ceef",
   "metadata": {},
   "outputs": [
    {
     "name": "stdout",
     "output_type": "stream",
     "text": [
      "Accuracy: 0.57745\n",
      "Error:  54722.21875\n",
      "r2:  0.05281403139032226\n"
     ]
    }
   ],
   "source": [
    "print(\"Accuracy:\",metrics.accuracy_score(y_test, y_pred_trees))\n",
    "print(\"Error: \", metrics.mean_squared_error(y_test, y_pred_trees))\n",
    "print(\"r2: \", metrics.r2_score(y_test, y_pred_trees))"
   ]
  },
  {
   "cell_type": "code",
   "execution_count": 19,
   "id": "6d3a961d",
   "metadata": {},
   "outputs": [
    {
     "name": "stderr",
     "output_type": "stream",
     "text": [
      "E:\\Anaconda\\lib\\site-packages\\sklearn\\linear_model\\_logistic.py:814: ConvergenceWarning: lbfgs failed to converge (status=1):\n",
      "STOP: TOTAL NO. of ITERATIONS REACHED LIMIT.\n",
      "\n",
      "Increase the number of iterations (max_iter) or scale the data as shown in:\n",
      "    https://scikit-learn.org/stable/modules/preprocessing.html\n",
      "Please also refer to the documentation for alternative solver options:\n",
      "    https://scikit-learn.org/stable/modules/linear_model.html#logistic-regression\n",
      "  n_iter_i = _check_optimize_result(\n"
     ]
    }
   ],
   "source": [
    "LR = LogisticRegression()\n",
    "LR.fit(X_train, y_train)\n",
    "y_pred_LR = LR.predict(X_test)"
   ]
  },
  {
   "cell_type": "code",
   "execution_count": 20,
   "id": "2864ed8b",
   "metadata": {},
   "outputs": [
    {
     "name": "stdout",
     "output_type": "stream",
     "text": [
      "Accuracy: 0.55325\n",
      "Error:  1184073.153\n",
      "r2  -19.49510239072717\n"
     ]
    }
   ],
   "source": [
    "print(\"Accuracy:\",metrics.accuracy_score(y_test, y_pred_LR))\n",
    "print(\"Error: \", metrics.mean_squared_error(y_test, y_pred_LR))\n",
    "print(\"r2 \", metrics.r2_score(y_test, y_pred_LR))"
   ]
  },
  {
   "cell_type": "markdown",
   "id": "bd24e9d3",
   "metadata": {},
   "source": [
    "## I used Decision Tree and Logistic Regression as my models. When including (#Followers, #Friends, #Favorites, #Entity, #Mentions, #Hashtags, Positive_sentiment, Negative_sentiment) as my training variables, the error and r-square score are not ideal for both models. However, the decision tree does show a better accuracy, error, r square, and run time. When including only (#Followers, #Friends, #Favorites) as training variables, the result for decision tree is much better, but the result for logistic regression becomes worse. Decision tree appears to be the superior model in both cases."
   ]
  }
 ],
 "metadata": {
  "kernelspec": {
   "display_name": "Python 3 (ipykernel)",
   "language": "python",
   "name": "python3"
  },
  "language_info": {
   "codemirror_mode": {
    "name": "ipython",
    "version": 3
   },
   "file_extension": ".py",
   "mimetype": "text/x-python",
   "name": "python",
   "nbconvert_exporter": "python",
   "pygments_lexer": "ipython3",
   "version": "3.9.12"
  }
 },
 "nbformat": 4,
 "nbformat_minor": 5
}
